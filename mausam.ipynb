{
 "cells": [
  {
   "cell_type": "code",
   "execution_count": null,
   "id": "6a347540-6727-4849-b7b2-4141d8f9e39a",
   "metadata": {},
   "outputs": [],
   "source": [
    "import requests\n",
    "import matplotlib.pyplot as plt\n",
    "from datetime import datetime\n",
    "\n",
    "def get_weather_data(city, api_key):\n",
    "    url = f\"http://api.openweathermap.org/data/2.5/forecast?q={city}&appid={api_key}&units=metric\"\n",
    "    response = requests.get(url)\n",
    "    if response.status_code == 200:\n",
    "        return response.json()\n",
    "    else:\n",
    "        print(\"Error fetching data. Please check the city name or API key.\")\n",
    "        return None\n",
    "\n",
    "def parse_weather_data(weather_data):\n",
    "    dates = []\n",
    "    temperatures = []\n",
    "\n",
    "    for entry in weather_data['list']:\n",
    "        date_time = datetime.strptime(entry['dt_txt'], \"%Y-%m-%d %H:%M:%S\")\n",
    "        dates.append(date_time)\n",
    "        temperatures.append(entry['main']['temp'])\n",
    "\n",
    "    return dates, temperatures\n",
    "\n",
    "def plot_weather(dates, temperatures, city):\n",
    "    plt.figure(figsize=(10, 6))\n",
    "    plt.plot(dates, temperatures, marker='o', linestyle='-', color='b')\n",
    "    plt.title(f\"Temperature Forecast for {city}\")\n",
    "    plt.xlabel(\"Date and Time\")\n",
    "    plt.ylabel(\"Temperature (°C)\")\n",
    "    plt.grid(True)\n",
    "    plt.xticks(rotation=45)\n",
    "    plt.tight_layout()\n",
    "    plt.savefig(\"Mausam.png\")\n",
    "    plt.show()\n",
    "\n",
    "def main():\n",
    "    print(\"Welcome to the Daily Weather Forecast App!\")\n",
    "    city = input(\"Enter the city name: \")\n",
    "    api_key = \"9708a453e198ca0cf175b57f84fedd1e\"\n",
    "\n",
    "    weather_data = get_weather_data(city, api_key)\n",
    "    if weather_data:\n",
    "        dates, temperatures = parse_weather_data(weather_data)\n",
    "        plot_weather(dates, temperatures, city)\n",
    "\n",
    "if __name__ == \"__main__\":\n",
    "    main()\n"
   ]
  },
  {
   "cell_type": "code",
   "execution_count": null,
   "id": "38a7380f-6e2d-48bb-a7f4-d829f5021379",
   "metadata": {},
   "outputs": [],
   "source": []
  },
  {
   "cell_type": "code",
   "execution_count": null,
   "id": "244992b0-8c7e-4a6f-8938-11349086fcf9",
   "metadata": {},
   "outputs": [],
   "source": []
  },
  {
   "cell_type": "code",
   "execution_count": null,
   "id": "c90b173a-635a-4a97-a94f-d1b0f480e978",
   "metadata": {},
   "outputs": [],
   "source": []
  }
 ],
 "metadata": {
  "kernelspec": {
   "display_name": "Python 3 (ipykernel)",
   "language": "python",
   "name": "python3"
  },
  "language_info": {
   "codemirror_mode": {
    "name": "ipython",
    "version": 3
   },
   "file_extension": ".py",
   "mimetype": "text/x-python",
   "name": "python",
   "nbconvert_exporter": "python",
   "pygments_lexer": "ipython3",
   "version": "3.12.6"
  }
 },
 "nbformat": 4,
 "nbformat_minor": 5
}
